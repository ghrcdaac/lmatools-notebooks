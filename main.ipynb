{
 "cells": [
  {
   "cell_type": "code",
   "execution_count": null,
   "id": "97077550",
   "metadata": {},
   "outputs": [],
   "source": [
    "from input_output import read_nc_file\n",
    "from nalma import preprocess_nalma\n",
    "from utils import get_all_nalma_files_in_a_directory, get_all_files_in_a_directory\n",
    "from glm import preprocess_glm\n",
    "import shutil\n",
    "\n",
    "BASE_PATH = '/home/ubuntu/'\n",
    "BASE_PATH = '/home/asubedi/'\n",
    "\n",
    "#NALMA\n",
    "all_local_nalma_files = get_all_nalma_files_in_a_directory(f\"{BASE_PATH}data/NALMA_input/\")\n",
    "for each_file_location in all_local_nalma_files:\n",
    "    #read NALMA netcdf4 file\n",
    "    file = read_nc_file(each_file_location)\n",
    "    #define variable that needs to be converted to geotiff \n",
    "    variable = \"flash_extent\"\n",
    "    #preprocess it for COG conversion\n",
    "    preprocess_nalma(file, variable, each_file_location).connector()\n",
    "\n",
    "#GLM\n",
    "all_local_glm_files = get_all_files_in_a_directory(f\"{BASE_PATH}data/GLM_input/\")\n",
    "for each_file_location in all_local_glm_files:\n",
    "    file = read_nc_file(each_file_location)\n",
    "    variable = 'Flash_extent_density'\n",
    "    preprocess_glm(file, variable, each_file_location).connector()\n",
    "\n",
    "\n",
    "shutil.rmtree(f\"{BASE_PATH}data/NALMA_input/\")\n",
    "shutil.rmtree(f\"{BASE_PATH}data/GLM_input/\")"
   ]
  }
 ],
 "metadata": {},
 "nbformat": 4,
 "nbformat_minor": 5
}
