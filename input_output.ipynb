{
 "cells": [
  {
   "cell_type": "code",
   "execution_count": null,
   "id": "2dd9c546",
   "metadata": {},
   "outputs": [],
   "source": [
    "from utils import make_directory\n",
    "import xarray as xa\n",
    "\n",
    "def read_nc_file(location):\n",
    "    return read_local_nc_file(location)\n",
    "\n",
    "def read_local_nc_file(location):\n",
    "    file = xa.open_dataset(location, engine=\"netcdf4\", decode_coords='all', decode_times=False)\n",
    "    return file\n",
    "\n",
    "def read_s3_nc_file(location):\n",
    "    pass\n",
    "\n",
    "def output_cog(file, directory_name, filename):\n",
    "    make_directory(directory_name)\n",
    "    file.rio.to_raster(f\"{directory_name}/{filename}.tif\", driver='COG')"
   ]
  }
 ],
 "metadata": {},
 "nbformat": 4,
 "nbformat_minor": 5
}
