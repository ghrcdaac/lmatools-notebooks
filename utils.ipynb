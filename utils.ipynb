{
 "cells": [
  {
   "cell_type": "code",
   "execution_count": null,
   "id": "b90e4984",
   "metadata": {},
   "outputs": [],
   "source": [
    "import os\n",
    "\n",
    "def make_directory(path):\n",
    "    # path = os.path.join(base_path, directory_name)\n",
    "    if os.path.exists(path) == False:\n",
    "        os.mkdir(path)\n",
    "        return True\n",
    "    return False\n",
    "\n",
    "def get_all_nalma_files_in_a_directory(directory_path):\n",
    "    files = []\n",
    "    for f in os.listdir(directory_path):\n",
    "        if os.path.isfile(os.path.join(directory_path, f)) and f[0:5] == 'NALMA':\n",
    "            files.append(os.path.join(directory_path, f))\n",
    "    return files\n",
    "\n",
    "def get_all_files_in_a_directory(directory_path):\n",
    "    files = []\n",
    "    for f in os.listdir(directory_path):\n",
    "        if os.path.isfile(os.path.join(directory_path, f)):\n",
    "            files.append(os.path.join(directory_path, f))\n",
    "    return files"
   ]
  }
 ],
 "metadata": {},
 "nbformat": 4,
 "nbformat_minor": 5
}
