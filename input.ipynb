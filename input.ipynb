{
 "cells": [
  {
   "cell_type": "code",
   "execution_count": null,
   "id": "4888f31d",
   "metadata": {},
   "outputs": [],
   "source": [
    "import os\n",
    "import re\n",
    "import random\n",
    "import math\n",
    "import xarray as xa\n",
    "import numpy as np\n",
    "\n",
    "from utils import extract_variable_name\n",
    "\n",
    "def nalma(base_path, filename):\n",
    "    input_file_path = f\"{base_path}{filename}\"\n",
    "    variable_name = extract_variable_name(filename)\n",
    "    lat='latitude'\n",
    "    lon='longitude'\n",
    "    return input_file_path, variable_name, lat, lon\n",
    "\n",
    "def wtlma(base_path, filename):\n",
    "    input_file_path = f\"{base_path}{filename}\"\n",
    "    variable_name = extract_variable_name(filename)\n",
    "    lat='latitude'\n",
    "    lon='longitude'\n",
    "    return input_file_path, variable_name, lat, lon\n",
    "\n",
    "def trmm_lis(base_path, filename):\n",
    "    input_file_path = f'{base_path}{filename}'\n",
    "    variable_name = \"VHRFC_LIS_FRD\"\n",
    "    lat=\"Latitude\"\n",
    "    lon=\"Longitude\"\n",
    "    return input_file_path, variable_name, lat, lon"
   ]
  }
 ],
 "metadata": {},
 "nbformat": 4,
 "nbformat_minor": 5
}
